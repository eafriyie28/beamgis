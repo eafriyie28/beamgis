{
 "cells": [
  {
   "cell_type": "markdown",
   "metadata": {},
   "source": [
    "### Adding Raster Files"
   ]
  },
  {
   "cell_type": "markdown",
   "metadata": {},
   "source": [
    "[![Open In Colab](https://colab.research.google.com/assets/colab-badge.svg)](https://colab.research.google.com/github/eafriyie28/beamgis/blob/main/docs/examples/add_raster.ipynb)"
   ]
  },
  {
   "cell_type": "code",
   "execution_count": null,
   "metadata": {},
   "outputs": [],
   "source": [
    "import beamgis"
   ]
  },
  {
   "cell_type": "markdown",
   "metadata": {},
   "source": [
    "### Adding Raster to map"
   ]
  },
  {
   "cell_type": "code",
   "execution_count": null,
   "metadata": {},
   "outputs": [],
   "source": [
    "# Display the map object in the Jupyter Notebook\n",
    "m = beamgis.Map()\n",
    "m"
   ]
  },
  {
   "cell_type": "code",
   "execution_count": null,
   "metadata": {},
   "outputs": [],
   "source": [
    "# Define the url for the raster file\n",
    "url = r\"https://github.com/opengeos/datasets/releases/download/raster/dem_90m.tif\""
   ]
  },
  {
   "cell_type": "code",
   "execution_count": null,
   "metadata": {},
   "outputs": [],
   "source": [
    "# Add the raster file to the map with a \"terrain\" colormap\n",
    "m.add_raster(url, colormap=\"terrain\", name=\"dem\", opacity=0.5)\n",
    "m.add_layer_control()"
   ]
  },
  {
   "cell_type": "markdown",
   "metadata": {},
   "source": [
    "### Displaying specific bands"
   ]
  },
  {
   "cell_type": "code",
   "execution_count": null,
   "metadata": {},
   "outputs": [],
   "source": [
    "# Add new map\n",
    "m_2 = beamgis.Map()\n",
    "m_2"
   ]
  },
  {
   "cell_type": "code",
   "execution_count": null,
   "metadata": {},
   "outputs": [],
   "source": [
    "# Add the second raster file to the map\n",
    "url_2 = \"https://github.com/opengeos/datasets/releases/download/raster/LC09_039035_20240708_90m.tif\""
   ]
  },
  {
   "cell_type": "code",
   "execution_count": null,
   "metadata": {},
   "outputs": [],
   "source": [
    "# Add the raster file to the map with specific band indexes and opacity\n",
    "m_2.add_raster(url_2, indexes=[5, 4, 3], name=\"landsat\", opacity=0.2)"
   ]
  },
  {
   "cell_type": "markdown",
   "metadata": {},
   "source": [
    "### Adding an image overlay"
   ]
  },
  {
   "cell_type": "code",
   "execution_count": null,
   "metadata": {},
   "outputs": [],
   "source": [
    "# Create a new map object for adding an image overlay\n",
    "image_m = beamgis.Map()\n",
    "image_m"
   ]
  },
  {
   "cell_type": "code",
   "execution_count": null,
   "metadata": {},
   "outputs": [],
   "source": [
    "# Define the URL for the image to be added to the map\n",
    "image_url = \"https://media0.giphy.com/media/v1.Y2lkPTc5MGI3NjExZWFocm8xeng4aWQ1bXVmcmUyM2gzczlydmhjc2tyMWhhdzlnZzI3ayZlcD12MV9pbnRlcm5hbF9naWZfYnlfaWQmY3Q9Zw/DMUFPG2niG1TW/giphy.gif\"\n",
    "\n",
    "# Define the geographical bounds for the image overlay\n",
    "bounds = ((13, -150), (40, -120))"
   ]
  },
  {
   "cell_type": "code",
   "execution_count": null,
   "metadata": {},
   "outputs": [],
   "source": [
    "# Add an image overlay to the map using the specified image URL and geographical bounds\n",
    "image_m.add_image(image_url, bounds)"
   ]
  },
  {
   "cell_type": "markdown",
   "metadata": {},
   "source": [
    "### Adding a video overlay"
   ]
  },
  {
   "cell_type": "code",
   "execution_count": null,
   "metadata": {},
   "outputs": [],
   "source": [
    "# Initialize a new map object for adding a video overlay\n",
    "video_m = beamgis.Map(center=(40, -120), zoom=3)\n",
    "video_m"
   ]
  },
  {
   "cell_type": "code",
   "execution_count": null,
   "metadata": {},
   "outputs": [],
   "source": [
    "# Define the URL for the video to be added to the map\n",
    "url = (\n",
    "    \"http://commondatastorage.googleapis.com/gtv-videos-bucket/sample/BigBuckBunny.mp4\"\n",
    ")\n",
    "bounds = ((37.56238816, -122.515963), (37.563391708, -122.5130939))"
   ]
  },
  {
   "cell_type": "code",
   "execution_count": null,
   "metadata": {},
   "outputs": [],
   "source": [
    "# Add a video overlay to the map\n",
    "video_m.add_video(url, bounds, name=\"drone\")"
   ]
  },
  {
   "cell_type": "markdown",
   "metadata": {},
   "source": [
    "### Adding WMS Layer"
   ]
  },
  {
   "cell_type": "code",
   "execution_count": null,
   "metadata": {},
   "outputs": [],
   "source": [
    "# Add new map\n",
    "wms_m = beamgis.Map(center=(40, -100), zoom=5)\n",
    "wms_m"
   ]
  },
  {
   "cell_type": "code",
   "execution_count": null,
   "metadata": {},
   "outputs": [],
   "source": [
    "# Define the URL for the WMS service and the layers to be displayed\n",
    "wms_url = \"https://imagery.nationalmap.gov/arcgis/services/USGSNAIPPlus/ImageServer/WMSServer?\""
   ]
  },
  {
   "cell_type": "code",
   "execution_count": null,
   "metadata": {},
   "outputs": [],
   "source": [
    "# Add the WMS layer to the map\n",
    "wms_m.add_wms_layer(\n",
    "    wms_url, name=\"natural color\", layers=\"USGSNAIPPlus:NaturalColor\", opacity=0.8\n",
    ")"
   ]
  }
 ],
 "metadata": {
  "kernelspec": {
   "display_name": "geo",
   "language": "python",
   "name": "python3"
  },
  "language_info": {
   "codemirror_mode": {
    "name": "ipython",
    "version": 3
   },
   "file_extension": ".py",
   "mimetype": "text/x-python",
   "name": "python",
   "nbconvert_exporter": "python",
   "pygments_lexer": "ipython3",
   "version": "3.12.8"
  }
 },
 "nbformat": 4,
 "nbformat_minor": 2
}
