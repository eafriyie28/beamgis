{
 "cells": [
  {
   "cell_type": "markdown",
   "id": "0",
   "metadata": {},
   "source": [
    "[![Open In Colab](https://colab.research.google.com/assets/colab-badge.svg)](https://colab.research.google.com/github/eafriyie28/beamgis/blob/main/docs/examples/heatmapwidget.ipynb)"
   ]
  },
  {
   "cell_type": "markdown",
   "id": "1",
   "metadata": {},
   "source": [
    "#### Importing HeatmapWidget and beamgis module for creating and displaying heatmaps"
   ]
  },
  {
   "cell_type": "code",
   "execution_count": null,
   "id": "2",
   "metadata": {},
   "outputs": [],
   "source": [
    "from beamgis.heatmapwidget import HeatmapWidget\n",
    "import beamgis"
   ]
  },
  {
   "cell_type": "markdown",
   "id": "3",
   "metadata": {},
   "source": [
    "#### Using the heatmap widgets in the output"
   ]
  },
  {
   "cell_type": "code",
   "execution_count": null,
   "id": "4",
   "metadata": {},
   "outputs": [],
   "source": [
    "# Create a map object with a specified center, zoom level, and scroll wheel zoom enabled\n",
    "m = beamgis.Map(center=(20, 0), zoom=2, scroll_wheel_zoom=True)\n",
    "\n",
    "# Create a HeatmapWidget and associate it with the map object\n",
    "widget = HeatmapWidget(map_obj=m)\n",
    "\n",
    "# Display the heatmap widget and the map in the notebook\n",
    "display(widget)\n",
    "display(m)"
   ]
  },
  {
   "cell_type": "markdown",
   "id": "5",
   "metadata": {},
   "source": [
    "#### Using the heatmap gui"
   ]
  },
  {
   "cell_type": "code",
   "execution_count": null,
   "id": "6",
   "metadata": {},
   "outputs": [],
   "source": [
    "# Create a new map object\n",
    "# Add a heatmap GUI to the map\n",
    "# Add a basemap GUI to the map\n",
    "# Display the map with the added GUIs\n",
    "m = beamgis.Map(center=(20, 0), zoom=5, scroll_wheel_zoom=True)\n",
    "m.add_heatmap_gui()\n",
    "m.add_basemap_gui()\n",
    "m"
   ]
  },
  {
   "cell_type": "code",
   "execution_count": null,
   "id": "7",
   "metadata": {},
   "outputs": [],
   "source": []
  }
 ],
 "metadata": {
  "kernelspec": {
   "display_name": "geo",
   "language": "python",
   "name": "python3"
  },
  "language_info": {
   "codemirror_mode": {
    "name": "ipython",
    "version": 3
   },
   "file_extension": ".py",
   "mimetype": "text/x-python",
   "name": "python",
   "nbconvert_exporter": "python",
   "pygments_lexer": "ipython3",
   "version": "3.12.8"
  }
 },
 "nbformat": 4,
 "nbformat_minor": 5
}
