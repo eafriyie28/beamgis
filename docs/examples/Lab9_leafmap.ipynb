{
 "cells": [
  {
   "cell_type": "markdown",
   "id": "0",
   "metadata": {},
   "source": [
    "## Question 1: Creating an Interactive Map"
   ]
  },
  {
   "cell_type": "code",
   "execution_count": null,
   "id": "1",
   "metadata": {},
   "outputs": [],
   "source": [
    "import leafmap"
   ]
  },
  {
   "cell_type": "code",
   "execution_count": null,
   "id": "2",
   "metadata": {},
   "outputs": [],
   "source": [
    "m = leafmap.Map()\n",
    "url = \"https://nominatim.openstreetmap.org/search?format=json&q={s}\"\n",
    "m.add_search_control(url, placeholder=\"Search for a place\", position=\"topright\", zoom=6)\n",
    "m"
   ]
  },
  {
   "cell_type": "markdown",
   "id": "3",
   "metadata": {},
   "source": [
    "## Question 2: Adding Map Legends"
   ]
  },
  {
   "cell_type": "code",
   "execution_count": null,
   "id": "4",
   "metadata": {},
   "outputs": [],
   "source": [
    "map = leafmap.Map()\n",
    "url = \"https://services.terrascope.be/wms/v2?\"\n",
    "map.add_wms_layer(\n",
    "    url,\n",
    "    name=\"World Landcover\",\n",
    "    opacity=0.8,\n",
    "    layers=\"WORLDCOVER_2021_MAP\",\n",
    "    transparent=True,\n",
    ")\n",
    "map.add_legend(\n",
    "    builtin_legend=\"ESA_WorldCover\",\n",
    ")\n",
    "map"
   ]
  },
  {
   "cell_type": "markdown",
   "id": "5",
   "metadata": {},
   "source": [
    "## Question 3: Creating Marker Clusters"
   ]
  },
  {
   "cell_type": "markdown",
   "id": "6",
   "metadata": {},
   "source": [
    "#### Create a marker cluster visualization from a GeoJSON file of building centroids"
   ]
  },
  {
   "cell_type": "code",
   "execution_count": null,
   "id": "7",
   "metadata": {},
   "outputs": [],
   "source": [
    "map_1 = leafmap.Map(\n",
    "    basemap=\"Google Satellite\", center=(47.653441, -117.597316), zoom=16\n",
    ")\n",
    "map_1"
   ]
  },
  {
   "cell_type": "code",
   "execution_count": null,
   "id": "8",
   "metadata": {},
   "outputs": [],
   "source": [
    "import geopandas as gpd"
   ]
  },
  {
   "cell_type": "code",
   "execution_count": null,
   "id": "9",
   "metadata": {},
   "outputs": [],
   "source": [
    "gdf = gpd.read_file(\n",
    "    \"https://github.com/opengeos/datasets/releases/download/places/wa_building_centroids.geojson\"\n",
    ")\n",
    "gdf.head()"
   ]
  },
  {
   "cell_type": "code",
   "execution_count": null,
   "id": "10",
   "metadata": {},
   "outputs": [],
   "source": [
    "# Extract longitude and latitude from geometry and append to gdf\n",
    "gdf[\"longitude\"] = gdf.geometry.x\n",
    "gdf[\"latitude\"] = gdf.geometry.y\n",
    "gdf.head()"
   ]
  },
  {
   "cell_type": "code",
   "execution_count": null,
   "id": "11",
   "metadata": {},
   "outputs": [],
   "source": [
    "map_1.add_marker_cluster(\n",
    "    gdf,\n",
    "    x=\"longitude\",\n",
    "    y=\"latitude\",\n",
    "    layer_name=\"Building Centroids\",\n",
    "    radius=5,\n",
    "    outline_color=\"red\",\n",
    "    fill_color=\"yellow\",\n",
    "    fill_opacity=0.8,\n",
    ")"
   ]
  },
  {
   "cell_type": "markdown",
   "id": "12",
   "metadata": {},
   "source": [
    "#### Create circle markers for each building centroid using the Map.add_circle_markers_from_xy() method"
   ]
  },
  {
   "cell_type": "code",
   "execution_count": null,
   "id": "13",
   "metadata": {},
   "outputs": [],
   "source": [
    "map_2 = leafmap.Map(\n",
    "    basemap=\"Google Satellite\", center=(47.653441, -117.597316), zoom=16\n",
    ")"
   ]
  },
  {
   "cell_type": "code",
   "execution_count": null,
   "id": "14",
   "metadata": {},
   "outputs": [],
   "source": [
    "map_2.add_circle_markers_from_xy(\n",
    "    gdf,\n",
    "    x=\"longitude\",\n",
    "    y=\"latitude\",\n",
    "    radius=5,\n",
    "    color=\"red\",\n",
    "    fill_color=\"yellow\",\n",
    "    fill_opacity=0.8,\n",
    "    layer_name=\"Building Centroids\",\n",
    "    zoom_to_layer=True,\n",
    ")\n",
    "map_2"
   ]
  },
  {
   "cell_type": "markdown",
   "id": "15",
   "metadata": {},
   "source": [
    "## Question 4: Visualizing Vector Data"
   ]
  },
  {
   "cell_type": "code",
   "execution_count": null,
   "id": "16",
   "metadata": {},
   "outputs": [],
   "source": []
  },
  {
   "cell_type": "code",
   "execution_count": null,
   "id": "17",
   "metadata": {},
   "outputs": [],
   "source": []
  },
  {
   "cell_type": "markdown",
   "id": "18",
   "metadata": {},
   "source": [
    "#### Visualize the building polygons GeoJSON file and style it with:"
   ]
  },
  {
   "cell_type": "code",
   "execution_count": null,
   "id": "19",
   "metadata": {},
   "outputs": [],
   "source": [
    "map_3 = leafmap.Map(basemap=\"Google Satellite\")\n",
    "data = \"https://github.com/opengeos/datasets/releases/download/places/wa_overture_buildings.geojson\"\n",
    "style = {\"color\": \"red\", \"weight\": 1.5, \"fillOpacity\": 0}\n",
    "map_3.add_vector(data, layer_name=\"Overture Buildings\", style=style, zoom_to_layer=True)\n",
    "map_3"
   ]
  },
  {
   "cell_type": "markdown",
   "id": "20",
   "metadata": {},
   "source": [
    "#### Visualize the road polylines GeoJSON file and style it with:"
   ]
  },
  {
   "cell_type": "code",
   "execution_count": null,
   "id": "21",
   "metadata": {},
   "outputs": [],
   "source": [
    "map_4 = leafmap.Map(basemap=\"Google Satellite\")\n",
    "data = \"https://github.com/opengeos/datasets/releases/download/places/las_vegas_roads.geojson\"\n",
    "style = {\"color\": \"red\", \"weight\": 2, \"fillOpacity\": 0}\n",
    "map_4.add_vector(data, layer_name=\"Las Vegas Roads\", style=style, zoom_to_layer=True)\n",
    "map_4"
   ]
  },
  {
   "cell_type": "markdown",
   "id": "22",
   "metadata": {},
   "source": [
    "#### Create a choropleth map of county areas in the US:"
   ]
  },
  {
   "cell_type": "code",
   "execution_count": null,
   "id": "23",
   "metadata": {},
   "outputs": [],
   "source": [
    "gdf = gpd.read_file(\n",
    "    \"https://github.com/opengeos/datasets/releases/download/us/us_counties.geojson\"\n",
    ")\n",
    "gdf.head()"
   ]
  },
  {
   "cell_type": "code",
   "execution_count": null,
   "id": "24",
   "metadata": {},
   "outputs": [],
   "source": [
    "map_5 = leafmap.Map()\n",
    "map_5.add_data(\n",
    "    gdf,\n",
    "    column=\"CENSUSAREA\",\n",
    "    scheme=\"Quantiles\",\n",
    "    cmap=\"Blues\",\n",
    "    legend_title=\"Census Area\",\n",
    "    zoom_to_layer=True,\n",
    "    popup=True,\n",
    "    tooltip=True,\n",
    ")\n",
    "map_5"
   ]
  },
  {
   "cell_type": "markdown",
   "id": "25",
   "metadata": {},
   "source": [
    "## Exercise 5: Creating a Split Map"
   ]
  },
  {
   "cell_type": "code",
   "execution_count": null,
   "id": "26",
   "metadata": {},
   "outputs": [],
   "source": [
    "Pre_event_imagery = (\n",
    "    \"https://github.com/opengeos/datasets/releases/download/raster/Libya-2023-07-01.tif\"\n",
    ")\n",
    "Post_event_imagery = (\n",
    "    \"https://github.com/opengeos/datasets/releases/download/raster/Libya-2023-09-13.tif\"\n",
    ")"
   ]
  },
  {
   "cell_type": "code",
   "execution_count": null,
   "id": "27",
   "metadata": {},
   "outputs": [],
   "source": [
    "map_6 = leafmap.Map()\n",
    "map_6.split_map(\n",
    "    left_layer=Pre_event_imagery,\n",
    "    right_layer=Post_event_imagery,\n",
    "    left_label=\"Pre-event Imagery\",\n",
    "    right_label=\"Post-event Imagery\",\n",
    ")\n",
    "map_6"
   ]
  }
 ],
 "metadata": {
  "kernelspec": {
   "display_name": "geo",
   "language": "python",
   "name": "python3"
  },
  "language_info": {
   "codemirror_mode": {
    "name": "ipython",
    "version": 3
   },
   "file_extension": ".py",
   "mimetype": "text/x-python",
   "name": "python",
   "nbconvert_exporter": "python",
   "pygments_lexer": "ipython3",
   "version": "3.12.8"
  }
 },
 "nbformat": 4,
 "nbformat_minor": 5
}
