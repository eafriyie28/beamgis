{
 "cells": [
  {
   "cell_type": "code",
   "execution_count": null,
   "metadata": {},
   "outputs": [],
   "source": [
    "import leafmap.foliumap as leafmap\n",
    "\n",
    "\"\"\"\n",
    "This code imports the `leafmap.foliumap` module, which is used for creating interactive maps.\n",
    "\n",
    "Functionality:\n",
    "- The `leafmap.foliumap` module provides tools for visualizing geospatial data on interactive maps.\n",
    "- It is particularly useful for working with raster and vector datasets in a Jupyter Notebook environment.\n",
    "\"\"\""
   ]
  },
  {
   "cell_type": "code",
   "execution_count": null,
   "metadata": {},
   "outputs": [],
   "source": [
    "\"\"\"\n",
    "This code creates a split map using the `leafmap` library to compare two raster datasets.\n",
    "\n",
    "Variables:\n",
    "- m: A `leafmap.Map` object initialized with a height of 600 pixels, centered at [39.4948, -108.5492], and zoom level 12.\n",
    "- url: A string containing the URL of the first raster dataset.\n",
    "- url2: A string containing the URL of the second raster dataset.\n",
    "\n",
    "Functionality:\n",
    "- The `split_map` method is used to create a split view of the two raster datasets.\n",
    "- The map object `m` is displayed to visualize the split map.\n",
    "\"\"\"\n",
    "\n",
    "m = leafmap.Map(height=600, center=[39.4948, -108.5492], zoom=12)\n",
    "url = \"https://github.com/opengeos/data/releases/download/raster/Libya-2023-07-01.tif\"\n",
    "url2 = \"https://github.com/opengeos/data/releases/download/raster/Libya-2023-09-13.tif\"\n",
    "m.split_map(url, url2)\n",
    "m"
   ]
  }
 ],
 "metadata": {
  "kernelspec": {
   "display_name": "geo",
   "language": "python",
   "name": "python3"
  },
  "language_info": {
   "codemirror_mode": {
    "name": "ipython",
    "version": 3
   },
   "file_extension": ".py",
   "mimetype": "text/x-python",
   "name": "python",
   "nbconvert_exporter": "python",
   "pygments_lexer": "ipython3",
   "version": "3.12.8"
  }
 },
 "nbformat": 4,
 "nbformat_minor": 2
}
