{
 "cells": [
  {
   "cell_type": "code",
   "execution_count": null,
   "metadata": {},
   "outputs": [],
   "source": [
    "import beamgis\n",
    "\n",
    "\"\"\"\n",
    "This cell imports the `beamgis` module, which is used for creating and interacting with geospatial maps.\n",
    "\"\"\""
   ]
  },
  {
   "cell_type": "code",
   "execution_count": null,
   "metadata": {},
   "outputs": [],
   "source": [
    "# Display the map object in the Jupyter Notebook\n",
    "m = beamgis.Map()\n",
    "m"
   ]
  },
  {
   "cell_type": "code",
   "execution_count": null,
   "metadata": {},
   "outputs": [],
   "source": [
    "# Define the filename for the raster file\n",
    "\"\"\"\n",
    "This code defines the filename for a raster file.\n",
    "The raster file is hosted online and can be accessed via the provided URL.\n",
    "\"\"\"\n",
    "filename = r\"https://github.com/opengeos/datasets/releases/download/raster/dem_90m.tif\""
   ]
  },
  {
   "cell_type": "code",
   "execution_count": null,
   "metadata": {},
   "outputs": [],
   "source": [
    "# Add the raster file to the map with a \"terrain\" colormap\n",
    "\"\"\"\n",
    "This code adds a raster file to the map object `m` using the specified filename.\n",
    "The raster is displayed with a \"terrain\" colormap, a name \"dem\", and an opacity of 0.5.\n",
    "\"\"\"\n",
    "m.add_raster(filename, colormap=\"terrain\", name=\"dem\", opacity=0.5)"
   ]
  },
  {
   "cell_type": "code",
   "execution_count": null,
   "metadata": {},
   "outputs": [],
   "source": [
    "filename = \"https://github.com/opengeos/datasets/releases/download/raster/LC09_039035_20240708_90m.tif\"\n",
    "\"\"\"\n",
    "This code defines the filename for a raster file.\n",
    "The raster file is hosted online and can be accessed via the provided URL.\n",
    "\"\"\""
   ]
  },
  {
   "cell_type": "code",
   "execution_count": null,
   "metadata": {},
   "outputs": [],
   "source": [
    "# Add the raster file to the map with specific band indexes and opacity\n",
    "\"\"\"\n",
    "This code adds a raster file to the map object `m` using the specified filename.\n",
    "The raster is displayed with specific band indexes [5, 4, 3], a name \"landsat\", and default opacity.\n",
    "\"\"\"\n",
    "m.add_raster(filename, indexes=[5, 4, 3], name=\"landsat\")"
   ]
  },
  {
   "cell_type": "code",
   "execution_count": null,
   "metadata": {},
   "outputs": [],
   "source": [
    "# Create a new map object for adding an image overlay\n",
    "\"\"\"\n",
    "This code initializes a new map object `image_m` using the `beamgis.Map` class.\n",
    "The map object will be used to add an image overlay in subsequent steps.\n",
    "\"\"\"\n",
    "image_m = beamgis.Map()\n",
    "image_m"
   ]
  },
  {
   "cell_type": "code",
   "execution_count": null,
   "metadata": {},
   "outputs": [],
   "source": [
    "# Define the URL for the image to be added to the map\n",
    "\"\"\"\n",
    "This code defines the URL for an image that will be added as an overlay to the map.\n",
    "The image is hosted online and can be accessed via the provided URL.\n",
    "\"\"\"\n",
    "image_url = \"https://i.gifer.com/4j.gif\"\n",
    "\n",
    "# Define the geographical bounds for the image overlay\n",
    "bounds = ((13, -150), (40, -120))"
   ]
  },
  {
   "cell_type": "code",
   "execution_count": null,
   "metadata": {},
   "outputs": [],
   "source": [
    "# Add an image overlay to the map using the specified image URL and geographical bounds\n",
    "\"\"\"\n",
    "This code adds an image overlay to the map object `image_m`.\n",
    "The image is fetched from the specified `image_url` and displayed within the defined `bounds`.\n",
    "\"\"\"\n",
    "image_m.add_image(image_url, bounds)"
   ]
  },
  {
   "cell_type": "code",
   "execution_count": null,
   "metadata": {},
   "outputs": [],
   "source": [
    "# Initialize a new map object for adding a video overlay\n",
    "\"\"\"\n",
    "This code initializes a new map object `video_m` using the `beamgis.Map` class.\n",
    "The map object will be used to add a video overlay in subsequent steps.\n",
    "\"\"\"\n",
    "video_m = beamgis.Map()\n",
    "video_m"
   ]
  },
  {
   "cell_type": "code",
   "execution_count": null,
   "metadata": {},
   "outputs": [],
   "source": [
    "\"\"\"\n",
    "This code defines the URL for a video file that will be added as an overlay to the map.\n",
    "The video is hosted online and can be accessed via the provided URL.\n",
    "\"\"\"\n",
    "\n",
    "url = \"https://static-assets.mapbox.com/mapbox-gl-js/drone.mp4\"\n",
    "bounds = ((37.56238816, -122.515963), (37.563391708, -122.5130939))"
   ]
  },
  {
   "cell_type": "code",
   "execution_count": null,
   "metadata": {},
   "outputs": [],
   "source": [
    "video_m.add_video(url, bounds=bounds, name=\"drone\", autoplay=True, loop=True)"
   ]
  },
  {
   "cell_type": "markdown",
   "metadata": {},
   "source": [
    "### Adding WMS Layer"
   ]
  },
  {
   "cell_type": "code",
   "execution_count": null,
   "metadata": {},
   "outputs": [],
   "source": [
    "wms_m = beamgis.Map()\n",
    "wms_m"
   ]
  },
  {
   "cell_type": "code",
   "execution_count": null,
   "metadata": {},
   "outputs": [],
   "source": [
    "wms_url = \"https://imagery.nationalmap.gov/arcgis/services/USGSNAIPPlus/ImageServer/WMSServer?\"\n",
    "layers = \"USGSNAIPPlus:NaturalColor\""
   ]
  },
  {
   "cell_type": "code",
   "execution_count": null,
   "metadata": {},
   "outputs": [],
   "source": [
    "wms_m.add_wms_layer(wms_url, layers)"
   ]
  },
  {
   "cell_type": "code",
   "execution_count": null,
   "metadata": {},
   "outputs": [],
   "source": []
  }
 ],
 "metadata": {
  "kernelspec": {
   "display_name": "geo",
   "language": "python",
   "name": "python3"
  },
  "language_info": {
   "codemirror_mode": {
    "name": "ipython",
    "version": 3
   },
   "file_extension": ".py",
   "mimetype": "text/x-python",
   "name": "python",
   "nbconvert_exporter": "python",
   "pygments_lexer": "ipython3",
   "version": "3.12.8"
  }
 },
 "nbformat": 4,
 "nbformat_minor": 2
}
