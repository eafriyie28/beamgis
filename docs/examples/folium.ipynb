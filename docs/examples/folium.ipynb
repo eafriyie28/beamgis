{
 "cells": [
  {
   "cell_type": "markdown",
   "metadata": {},
   "source": [
    "[![Open In Colab](https://colab.research.google.com/assets/colab-badge.svg)](https://colab.research.google.com/github/eafriyie28/beamgis/blob/main/docs/examples/folium.ipynb)"
   ]
  },
  {
   "cell_type": "code",
   "execution_count": null,
   "metadata": {},
   "outputs": [],
   "source": [
    "# import package\n",
    "import beamgis.foliumap as beamgis"
   ]
  },
  {
   "cell_type": "code",
   "execution_count": null,
   "metadata": {},
   "outputs": [],
   "source": [
    "self = beamgis.Map(center=[20, 0], zoom=4)\n",
    "url = \"https://github.com/opengeos/datasets/releases/download/world/countries.geojson\"\n",
    "self.add_geojson(url, name=\"Countries\")\n",
    "self.add_layer_control()\n",
    "self"
   ]
  },
  {
   "cell_type": "code",
   "execution_count": null,
   "metadata": {},
   "outputs": [],
   "source": [
    "# Built-in basemap\n",
    "self = beamgis.Map(center=[40, -100], zoom=4)\n",
    "self.add_basemap(\"CartoDB.DarkMatter\")\n",
    "self"
   ]
  },
  {
   "cell_type": "code",
   "execution_count": null,
   "metadata": {},
   "outputs": [],
   "source": [
    "# Custom basemap\n",
    "self = beamgis.Map(center=[8, 0], zoom=6)\n",
    "self.add_basemap(\n",
    "    {\n",
    "        \"tiles\": \"https://mt1.google.com/vt/lyrs=m&x={x}&y={y}&z={z}\",\n",
    "        \"name\": \"Google Road\",\n",
    "        \"attr\": \"© Google contributors\",\n",
    "    }\n",
    ")\n",
    "self"
   ]
  },
  {
   "cell_type": "code",
   "execution_count": null,
   "metadata": {},
   "outputs": [],
   "source": []
  }
 ],
 "metadata": {
  "kernelspec": {
   "display_name": "geo",
   "language": "python",
   "name": "python3"
  },
  "language_info": {
   "codemirror_mode": {
    "name": "ipython",
    "version": 3
   },
   "file_extension": ".py",
   "mimetype": "text/x-python",
   "name": "python",
   "nbconvert_exporter": "python",
   "pygments_lexer": "ipython3",
   "version": "3.12.8"
  }
 },
 "nbformat": 4,
 "nbformat_minor": 2
}
