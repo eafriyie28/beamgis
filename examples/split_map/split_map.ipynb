{
 "cells": [
  {
   "cell_type": "markdown",
   "metadata": {},
   "source": [
    "# Adding Split Map"
   ]
  },
  {
   "cell_type": "markdown",
   "metadata": {},
   "source": [
    "[![Open In Colab](https://colab.research.google.com/assets/colab-badge.svg)](https://colab.research.google.com/github/eafriyie28/beamgis/blob/main/docs/examples/split_map.ipynb)"
   ]
  },
  {
   "cell_type": "code",
   "execution_count": null,
   "metadata": {},
   "outputs": [],
   "source": [
    "import beamgis.foliumap as beam"
   ]
  },
  {
   "cell_type": "code",
   "execution_count": null,
   "metadata": {},
   "outputs": [],
   "source": [
    "# Create a map centered at a specific location\n",
    "m = beam.Map(center=[35.9606, -83.9208], zoom=12)"
   ]
  },
  {
   "cell_type": "code",
   "execution_count": null,
   "metadata": {},
   "outputs": [],
   "source": [
    "m.add_split_map(left=\"CartoDB.DarkMatter\", right=\"cartodbpositron\")\n",
    "m.add_layer_control()\n",
    "m"
   ]
  },
  {
   "cell_type": "code",
   "execution_count": null,
   "metadata": {},
   "outputs": [],
   "source": [
    "# Create a new map centered at a specific location with a split map view\n",
    "# The left map displays a DEM raster with a \"viridis\" colormap and 0.9 opacity\n",
    "# The right map displays a Landsat raster with a \"magma\" colormap and 0.5 opacity\n",
    "\n",
    "raster_m = beam.Map(center=[-8.3793, -74.5357], zoom=10)\n",
    "raster_m.add_split_map(\n",
    "    left=r\"https://github.com/opengeos/datasets/releases/download/raster/dem_90m.tif\",\n",
    "    right=r\"https://github.com/opengeos/datasets/releases/download/raster/LC09_039035_20240708_90m.tif\",\n",
    "    colormap_left=\"terrain\",\n",
    "    colormap_right=\"viridis\",\n",
    ")\n",
    "\n",
    "raster_m"
   ]
  }
 ],
 "metadata": {
  "kernelspec": {
   "display_name": "geo",
   "language": "python",
   "name": "python3"
  },
  "language_info": {
   "codemirror_mode": {
    "name": "ipython",
    "version": 3
   },
   "file_extension": ".py",
   "mimetype": "text/x-python",
   "name": "python",
   "nbconvert_exporter": "python",
   "pygments_lexer": "ipython3",
   "version": "3.12.8"
  }
 },
 "nbformat": 4,
 "nbformat_minor": 2
}
